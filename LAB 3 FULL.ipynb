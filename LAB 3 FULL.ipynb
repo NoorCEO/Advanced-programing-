{
 "cells": [
  {
   "cell_type": "markdown",
   "metadata": {},
   "source": [
    "# LAB 3 Q1"
   ]
  },
  {
   "cell_type": "code",
   "execution_count": 8,
   "metadata": {},
   "outputs": [
    {
     "name": "stdout",
     "output_type": "stream",
     "text": [
      "enter you name :NOOR ALI\n"
     ]
    }
   ],
   "source": [
    "x= input(\"enter you name :\")"
   ]
  },
  {
   "cell_type": "code",
   "execution_count": 9,
   "metadata": {},
   "outputs": [],
   "source": [
    "def reversed_name(x):\n",
    "    z= x.split()\n",
    "    z.reverse()\n",
    "    str1 =''.join(z)\n",
    "    print(str1)\n"
   ]
  },
  {
   "cell_type": "code",
   "execution_count": 11,
   "metadata": {},
   "outputs": [
    {
     "name": "stdout",
     "output_type": "stream",
     "text": [
      "ALINOOR\n"
     ]
    }
   ],
   "source": [
    "reversed_name(x)"
   ]
  },
  {
   "cell_type": "markdown",
   "metadata": {},
   "source": [
    " # Q2 RANDOM NUMBERS BETWEEN 0 TO 1000"
   ]
  },
  {
   "cell_type": "code",
   "execution_count": 33,
   "metadata": {},
   "outputs": [],
   "source": [
    "import random\n",
    "mylist = []"
   ]
  },
  {
   "cell_type": "code",
   "execution_count": 34,
   "metadata": {},
   "outputs": [],
   "source": [
    "def random_num():\n",
    "    for i in range(1,10):\n",
    "        x = random.randint(1,1000)\n",
    "        mylist.append(x)\n",
    "        print(mylist)\n",
    "       "
   ]
  },
  {
   "cell_type": "code",
   "execution_count": 35,
   "metadata": {},
   "outputs": [
    {
     "name": "stdout",
     "output_type": "stream",
     "text": [
      "[829]\n",
      "[829, 957]\n",
      "[829, 957, 899]\n",
      "[829, 957, 899, 340]\n",
      "[829, 957, 899, 340, 177]\n",
      "[829, 957, 899, 340, 177, 702]\n",
      "[829, 957, 899, 340, 177, 702, 842]\n",
      "[829, 957, 899, 340, 177, 702, 842, 315]\n",
      "[829, 957, 899, 340, 177, 702, 842, 315, 563]\n"
     ]
    }
   ],
   "source": [
    "random_num()"
   ]
  },
  {
   "cell_type": "markdown",
   "metadata": {},
   "source": [
    "# AVERAGE OF 4 NUMBERS"
   ]
  },
  {
   "cell_type": "code",
   "execution_count": 38,
   "metadata": {},
   "outputs": [
    {
     "name": "stdout",
     "output_type": "stream",
     "text": [
      "Enter number of elements in the list : 5\n",
      "Enter element No-1: \n",
      "1\n",
      "Enter element No-2: \n",
      "2\n",
      "Enter element No-3: \n",
      "44\n",
      "Enter element No-4: \n",
      "5\n",
      "Enter element No-5: \n",
      "77\n",
      "The entered list is: \n",
      " [1, 2, 44, 5, 77]\n"
     ]
    }
   ],
   "source": [
    "listA = []\n",
    "# Input number of elemetns\n",
    "n = int(input(\"Enter number of elements in the list : \"))\n",
    "# iterating till the range\n",
    "for i in range(0, n):\n",
    "    print(\"Enter element No-{}: \".format(i+1))\n",
    "    elm = int(input())\n",
    "    listA.append(elm) # adding the element\n",
    "print(\"The entered list is: \\n\",listA)\n"
   ]
  },
  {
   "cell_type": "code",
   "execution_count": 39,
   "metadata": {},
   "outputs": [],
   "source": [
    "def Average(lst): \n",
    "    return sum(lst) / len(lst) "
   ]
  },
  {
   "cell_type": "code",
   "execution_count": 42,
   "metadata": {},
   "outputs": [
    {
     "name": "stdout",
     "output_type": "stream",
     "text": [
      "Average of the list = 25.8\n"
     ]
    }
   ],
   "source": [
    "print(\"Average of the list =\", Average(listA))"
   ]
  },
  {
   "cell_type": "markdown",
   "metadata": {},
   "source": [
    "# Q4 week sales "
   ]
  },
  {
   "cell_type": "code",
   "execution_count": 43,
   "metadata": {},
   "outputs": [
    {
     "name": "stdout",
     "output_type": "stream",
     "text": [
      "Enter number ofproducats  : 5\n",
      "Enter product  No-1: \n",
      "12\n",
      "Enter product  No-2: \n",
      "22\n",
      "Enter product  No-3: \n",
      "44\n",
      "Enter product  No-4: \n",
      "55\n",
      "Enter product  No-5: \n",
      "4\n",
      "The entered sales is: \n",
      " [12, 22, 44, 55, 4]\n"
     ]
    }
   ],
   "source": [
    "listA = []\n",
    "# Input number of elemetns\n",
    "n = int(input(\"Enter number ofproducats  : \"))\n",
    "# iterating till the range\n",
    "for i in range(0, n):\n",
    "    print(\"Enter product  No-{}: \".format(i+1))\n",
    "    elm = int(input())\n",
    "    listA.append(elm) # adding the element\n",
    "print(\"The entered sales is: \\n\",listA)\n"
   ]
  },
  {
   "cell_type": "code",
   "execution_count": 56,
   "metadata": {},
   "outputs": [],
   "source": [
    "def discount(listA):\n",
    "    multiplied_list = [element * 0.10 for element in listA]\n",
    "    difference = []\n",
    "    zip_object = zip(listA,  multiplied_list)\n",
    "    for listA, multiplied_list in zip_object:\n",
    "        difference.append(listA-multiplied_list)\n",
    "    \n",
    "    print(difference)"
   ]
  },
  {
   "cell_type": "code",
   "execution_count": 58,
   "metadata": {},
   "outputs": [
    {
     "name": "stdout",
     "output_type": "stream",
     "text": [
      "[10.8, 19.8, 39.6, 49.5, 3.6]\n"
     ]
    }
   ],
   "source": [
    "discount(listA)"
   ]
  },
  {
   "cell_type": "markdown",
   "metadata": {},
   "source": [
    "# list minpulation using functions \n",
    "# append(item), index(item), insert(index,item), remove(item), sort(), reverse()"
   ]
  },
  {
   "cell_type": "code",
   "execution_count": 65,
   "metadata": {},
   "outputs": [],
   "source": [
    "lst =[12,4,15,6]"
   ]
  },
  {
   "cell_type": "code",
   "execution_count": 68,
   "metadata": {},
   "outputs": [],
   "source": [
    "def add(lst):\n",
    "    lst.append(int(input(\"enter element :\")))\n",
    "    print(lst)"
   ]
  },
  {
   "cell_type": "code",
   "execution_count": 69,
   "metadata": {},
   "outputs": [
    {
     "name": "stdout",
     "output_type": "stream",
     "text": [
      "enter element :4\n",
      "[12, 4, 15, 6, 4]\n"
     ]
    }
   ],
   "source": [
    "add(lst)"
   ]
  },
  {
   "cell_type": "code",
   "execution_count": 74,
   "metadata": {},
   "outputs": [],
   "source": [
    "def indexx(lst):\n",
    "    print(lst.index(int(input(\"enter the element you want to find index\"))))"
   ]
  },
  {
   "cell_type": "code",
   "execution_count": 75,
   "metadata": {},
   "outputs": [
    {
     "name": "stdout",
     "output_type": "stream",
     "text": [
      "enter the element you want to find index12\n",
      "0\n"
     ]
    }
   ],
   "source": [
    "indexx(lst)\n"
   ]
  },
  {
   "cell_type": "code",
   "execution_count": 80,
   "metadata": {},
   "outputs": [],
   "source": [
    "def insertt(lst):\n",
    "    i= int(input(\"enter wehere you want to enter the element:\"))\n",
    "    elem = int(input(\"eneter the element to be inserted \"))\n",
    "    lst.insert(i, elem)\n",
    "    print(lst)"
   ]
  },
  {
   "cell_type": "code",
   "execution_count": 81,
   "metadata": {},
   "outputs": [
    {
     "name": "stdout",
     "output_type": "stream",
     "text": [
      "enter wehere you want to enter the element:2\n",
      "eneter the element to be inserted 12\n",
      "[12, 4, 12, 15, 23, 6, 4]\n"
     ]
    }
   ],
   "source": [
    "insertt(lst)"
   ]
  },
  {
   "cell_type": "code",
   "execution_count": 84,
   "metadata": {},
   "outputs": [],
   "source": [
    "def remove(lst):\n",
    "    pop = int(input(\"enter element index  to remove:\"))\n",
    "    lst.pop(pop)\n",
    "    print(lst)"
   ]
  },
  {
   "cell_type": "code",
   "execution_count": 85,
   "metadata": {},
   "outputs": [
    {
     "name": "stdout",
     "output_type": "stream",
     "text": [
      "enter element index  to remove:3\n",
      "[12, 4, 12, 23, 6, 4]\n"
     ]
    }
   ],
   "source": [
    "remove(lst)"
   ]
  },
  {
   "cell_type": "code",
   "execution_count": 87,
   "metadata": {},
   "outputs": [],
   "source": [
    "def sortt(lst):\n",
    "    lst.sort()\n",
    "    print(lst)"
   ]
  },
  {
   "cell_type": "code",
   "execution_count": 88,
   "metadata": {},
   "outputs": [
    {
     "name": "stdout",
     "output_type": "stream",
     "text": [
      "[4, 4, 6, 12, 12, 23]\n"
     ]
    }
   ],
   "source": [
    "sortt(lst)"
   ]
  },
  {
   "cell_type": "code",
   "execution_count": 91,
   "metadata": {},
   "outputs": [],
   "source": [
    "def reversse(lst):\n",
    "    lst.reverse()\n",
    "    print(lst)"
   ]
  },
  {
   "cell_type": "code",
   "execution_count": 93,
   "metadata": {},
   "outputs": [
    {
     "name": "stdout",
     "output_type": "stream",
     "text": [
      "[23, 12, 12, 6, 4, 4]\n"
     ]
    }
   ],
   "source": [
    "reversse(lst)"
   ]
  },
  {
   "cell_type": "markdown",
   "metadata": {},
   "source": [
    "# random 2d list"
   ]
  },
  {
   "cell_type": "code",
   "execution_count": 94,
   "metadata": {},
   "outputs": [
    {
     "name": "stdout",
     "output_type": "stream",
     "text": [
      "[[61, 63, 32, 90, 41, 8, 64, 32, 6, 53, 54, 57, 45, 51, 49, 24, 26, 44, 9, 70, 28, 29, 73, 35, 67, 67, 65, 85, 24, 77, 30, 99, 95, 27, 99, 89, 20, 52, 92, 5, 34, 22, 31, 48, 73, 98, 37, 26, 83, 68], [61, 53, 35, 35, 27, 18, 53, 60, 20, 80, 85, 27, 37, 57, 36, 35, 83, 33, 41, 23, 86, 91, 28, 11, 38, 62, 6, 3, 66, 26, 76, 57, 0, 83, 42, 93, 85, 15, 25, 10, 50, 67, 27, 1, 49, 33, 39, 49, 27, 97]]\n"
     ]
    }
   ],
   "source": [
    "from random import randint\n",
    "def twoD():\n",
    "    rows, cols = (50, 2) \n",
    "    arr=[] \n",
    "    for i in range(cols): \n",
    "        col = [] \n",
    "        for j in range(rows): \n",
    "             col.append(randint(0,100))\n",
    "        arr.append(col) \n",
    "    print(arr)\n",
    "twoD()"
   ]
  },
  {
   "cell_type": "code",
   "execution_count": null,
   "metadata": {},
   "outputs": [],
   "source": []
  }
 ],
 "metadata": {
  "kernelspec": {
   "display_name": "Python 3",
   "language": "python",
   "name": "python3"
  },
  "language_info": {
   "codemirror_mode": {
    "name": "ipython",
    "version": 3
   },
   "file_extension": ".py",
   "mimetype": "text/x-python",
   "name": "python",
   "nbconvert_exporter": "python",
   "pygments_lexer": "ipython3",
   "version": "3.8.3"
  }
 },
 "nbformat": 4,
 "nbformat_minor": 4
}
